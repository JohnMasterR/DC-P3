{
 "cells": [
  {
   "cell_type": "code",
   "execution_count": 1,
   "id": "2ad429b3",
   "metadata": {},
   "outputs": [],
   "source": [
    "import tabula\n",
    "import pandas as pd\n",
    "import numpy as np\n",
    "import matplotlib as mpl\n",
    "import matplotlib.pyplot as plt\n",
    "import matplotlib.cm as cm\n",
    "import matplotlib.colors as mcolors\n",
    "\n",
    "import sklearn.tree\n",
    "import sklearn.metrics as metrics\n",
    "from sklearn.model_selection import TimeSeriesSplit\n",
    "from sklearn.linear_model import LinearRegression\n",
    "from sklearn.neural_network import MLPRegressor\n",
    "from sklearn.datasets import make_regression\n",
    "from sklearn.model_selection import train_test_split\n",
    "from sklearn.neighbors import KNeighborsRegressor\n",
    "from sklearn.ensemble import RandomForestRegressor\n",
    "from sklearn.svm import SVR\n",
    "from sklearn.model_selection import cross_val_score\n",
    "from sklearn.model_selection import GridSearchCV\n",
    "from sklearn.metrics import make_scorer\n",
    "from sklearn import datasets, ensemble\n",
    "from sklearn.inspection import permutation_importance\n",
    "from sklearn.metrics import mean_squared_error\n",
    "from sklearn.model_selection import train_test_split\n",
    "from sklearn.tree import DecisionTreeRegressor"
   ]
  },
  {
   "cell_type": "code",
   "execution_count": 2,
   "id": "54059cc8",
   "metadata": {},
   "outputs": [],
   "source": [
    "def Matriculas(Dat, year):\n",
    "    Aux = Dat.loc[Dat.index==year] # Selects only data for given\n",
    "    Matricula = Aux.loc[Aux['Programa']!='Total'].fillna(0).reset_index()\n",
    "    return Matricula"
   ]
  },
  {
   "cell_type": "code",
   "execution_count": 3,
   "id": "257b8828",
   "metadata": {},
   "outputs": [],
   "source": [
    "#+++++++++++++++++++++++ Número de inscritos, admitidos y estudiantes +++++++++++++++++++++++#\n",
    "#+++++++++++++++++++++++    matriculados por programa de pregrado     +++++++++++++++++++++++#\n",
    "\n",
    "# Take index_col=2 since col 2 has the sample periods and thus is more easy data filtering.\n",
    "Data = pd.read_csv('T15_Sup_Est_2021-I.csv', index_col=2, encoding='latin-1') # Table 15 is in pages 32 - 36.\n",
    "\n",
    "Matricula_2017_1 = Matriculas(Data, '2017-1')\n",
    "Matricula_2017_2 = Matriculas(Data, '2017-2')\n",
    "Matricula_2018_1 = Matriculas(Data, '2018-1')\n",
    "Matricula_2018_2 = Matriculas(Data, '2018-2')\n",
    "Matricula_2019_1 = Matriculas(Data, '2019-1')\n",
    "Matricula_2019_2 = Matriculas(Data, '2019-2')\n",
    "Matricula_2020_1 = Matriculas(Data, '2020-1')\n",
    "Matricula_2020_2 = Matriculas(Data, '2020-2')\n",
    "Matricula_2021_1 = Matriculas(Data, '2021-1')"
   ]
  },
  {
   "cell_type": "code",
   "execution_count": 4,
   "id": "60713bb6",
   "metadata": {},
   "outputs": [],
   "source": [
    "data = Matricula_2017_1\n",
    "year = '2017-1'\n",
    "depmax = 4\n",
    "reg_type = 'absolute_error'"
   ]
  },
  {
   "cell_type": "code",
   "execution_count": 14,
   "id": "bcf25af7",
   "metadata": {},
   "outputs": [],
   "source": [
    "plt.rcParams[\"figure.figsize\"] = [12, 8]\n",
    "\n",
    "# setup the normalization and the colormap\n",
    "deps = np.arange(0, len(data['Programa']))\n",
    "normalize = mcolors.Normalize(vmin = deps.min(), vmax = deps.max())\n",
    "colormap = cm.get_cmap('nipy_spectral', deps.max()+1)\n",
    "# setup the colorbar\n",
    "scalarmappaple = cm.ScalarMappable(norm=normalize, cmap=colormap)\n",
    "scalarmappaple.set_array(deps)\n",
    "\n",
    "fig = plt.figure()\n",
    "\n",
    "fig.suptitle('Número de Estudiantes Matriculados por Programa '+str(year), size=22)\n",
    "plt.xlabel('No. Estudiantes Inscritos/Adimitidos',  fontsize=16)\n",
    "plt.ylabel('No. Estudiantes Matriculados',  fontsize=16)\n",
    "\n",
    "plt.scatter(data['Inscritos (1ra Opción)'], data['Matriculados'], label='Inscritos',\n",
    "            alpha=0.5, s=80, c=range(0, len(data)), cmap='nipy_spectral')\n",
    "plt.scatter(data['Admitidos (1ra y 2da Opción)'], data['Matriculados'], label='Admitidos',\n",
    "            alpha=0.5, marker='*', s=150, c=range(0, len(data)), cmap='nipy_spectral')\n",
    "plt.legend()\n",
    "\n",
    "cbar = plt.colorbar(scalarmappaple, orientation='vertical', pad=0.02,\n",
    "                   ticks=range(0, deps.max()+1, 1), shrink=0.75)\n",
    "cbar.ax.set_yticklabels(data['Programa'])\n",
    "\n",
    "plt.subplots_adjust(left=0.075, bottom=0.075, right=0.92, top=0.925)\n",
    "#plt.show()\n",
    "fig.savefig('Matriculados_'+str(year)+'.pdf', dpi=500)\n",
    "plt.close(fig)"
   ]
  },
  {
   "cell_type": "code",
   "execution_count": 6,
   "id": "aef9f403",
   "metadata": {},
   "outputs": [
    {
     "data": {
      "text/plain": [
       "DecisionTreeRegressor(criterion='absolute_error', max_depth=4)"
      ]
     },
     "execution_count": 6,
     "metadata": {},
     "output_type": "execute_result"
    }
   ],
   "source": [
    "regressor = DecisionTreeRegressor(max_depth=depmax, criterion=reg_type)\n",
    "\n",
    "regressor.fit(data[['Inscritos (1ra Opción)', 'Admitidos (1ra y 2da Opción)']],\n",
    "              data['Matriculados'])\n",
    "\n",
    "#DecisionTreeRegressor(criterion='mse',\n",
    "#                      max_depth=2,\n",
    "#                      max_features=None,\n",
    "#                      max_leaf_nodes=None,\n",
    "#                      min_samples_leaf=1,\n",
    "#                      min_samples_split=2,\n",
    "#                      min_weight_fraction_leaf=0.0,\n",
    "#                      presort=False,\n",
    "#                      random_state=None,\n",
    "#                      splitter='best')"
   ]
  },
  {
   "cell_type": "code",
   "execution_count": 19,
   "id": "9d7ef081",
   "metadata": {},
   "outputs": [],
   "source": [
    "fig = plt.figure(figsize=(13, 10))\n",
    "fig.suptitle('Árbol de Decisión '+str(year)+'(Deep Tree: )'+' (Deep Tree: '+str(depmax)+')', size=22)\n",
    "_= sklearn.tree.plot_tree(regressor)\n",
    "#plt.show()\n",
    "fig.savefig('Tree_'+str(year)+'.pdf', dpi=500)\n",
    "plt.close(fig)"
   ]
  },
  {
   "cell_type": "code",
   "execution_count": 20,
   "id": "7d970238",
   "metadata": {},
   "outputs": [
    {
     "name": "stderr",
     "output_type": "stream",
     "text": [
      "/home/john/.local/lib/python3.8/site-packages/sklearn/base.py:450: UserWarning: X does not have valid feature names, but DecisionTreeRegressor was fitted with feature names\n",
      "  warnings.warn(\n"
     ]
    }
   ],
   "source": [
    "Input_Test = data.filter(items=['Inscritos (1ra Opción)', 'Admitidos (1ra y 2da Opción)'])\n",
    "Predictions = pd.DataFrame()\n",
    "\n",
    "Ins_max = max(data['Inscritos (1ra Opción)'])\n",
    "Adm_max = max(data['Admitidos (1ra y 2da Opción)'])\n",
    "Ins_min = min(data['Inscritos (1ra Opción)'])\n",
    "Adm_min = min(data['Admitidos (1ra y 2da Opción)'])\n",
    "\n",
    "N = len(data)\n",
    "\n",
    "d_Ins = (Ins_max-Ins_min)/N\n",
    "d_Adm = (Adm_max-Adm_min)/N\n",
    "\n",
    "Ins_Test = np.linspace(Ins_min, Ins_max, N)#d_Ins)\n",
    "Adm_Test = np.linspace(Adm_min, Adm_max, N)#d_Adm)\n",
    "\n",
    "xx, yy = np.meshgrid(Ins_Test, Adm_Test)\n",
    "\n",
    "Mat_Predtc = regressor.predict(np.array([xx.flatten(), yy.flatten()]).T)\n",
    "\n",
    "zz = np.reshape(Mat_Predtc, (N, N))"
   ]
  },
  {
   "cell_type": "code",
   "execution_count": 34,
   "id": "3d2bef19",
   "metadata": {},
   "outputs": [],
   "source": [
    "from matplotlib.colors import ListedColormap\n",
    "\n",
    "plt.rcParams[\"figure.figsize\"] = [15, 8]\n",
    "\n",
    "cmap = plt.cm.ocean#Reds#RdBu\n",
    "my_cmap = cmap(np.arange(cmap.N))\n",
    "my_cmap[:,-1] = np.linspace(0, 1, cmap.N)\n",
    "my_cmap = ListedColormap(my_cmap)\n",
    "\n",
    "fig = plt.figure()\n",
    "\n",
    "fig.suptitle('Número de Estudiantes Matriculados por Programa '+str(year)+' (Deep Tree: '+str(depmax)+')',\n",
    "             size=22)\n",
    "plt.xlabel('Inscritos', fontsize=16)\n",
    "plt.ylabel('Admitidos', fontsize=16)\n",
    "\n",
    "# setting the limit for each axis\n",
    "plt.xlim(Ins_min, Ins_max)\n",
    "plt.ylim(Adm_min, Adm_max)\n",
    "\n",
    "# plotting the predictions\n",
    "plt.pcolormesh(Ins_Test, Adm_Test, zz, cmap=my_cmap)\n",
    "cb = plt.colorbar(label='Predicción Matriculas') # add a colorbar on the right\n",
    "cb.set_label('Predicción Matriculas', size=16,)\n",
    "# plotting also the observations\n",
    "plt.scatter(data['Inscritos (1ra Opción)'], data['Admitidos (1ra y 2da Opción)'],\n",
    "            alpha=0.8, s=5*data['Matriculados'],\n",
    "            c=range(0, len(data)), cmap='turbo')\n",
    "\n",
    "cbar = plt.colorbar(scalarmappaple, orientation='vertical', pad=0.02,\n",
    "                   ticks=range(0, deps.max()+1, 1), shrink=0.75)\n",
    "cbar.ax.set_yticklabels(data['Programa'])\n",
    "\n",
    "plt.subplots_adjust(left=0.075, bottom=0.075, right=1.05, top=0.925)\n",
    "#plt.show()\n",
    "fig.savefig('Predicciones_'+str(year)+'.pdf', dpi=500)\n",
    "plt.close(fig)"
   ]
  },
  {
   "cell_type": "code",
   "execution_count": 33,
   "id": "19169b2d",
   "metadata": {},
   "outputs": [
    {
     "data": {
      "image/png": "[encoded data removed]",
      "text/plain": [
       "<Figure size 1080x576 with 1 Axes>"
      ]
     },
     "metadata": {
      "needs_background": "light"
     },
     "output_type": "display_data"
    }
   ],
   "source": [
    "Importances = regressor.feature_importances_\n",
    "\n",
    "Features = ['Inscritos', 'Admitidos']\n",
    "Indices = np.argsort(Importances)\n",
    "\n",
    "fig = plt.figure()\n",
    "plt.title('Feature Importances '+str(year)+' (Deep Tree: '+str(depmax)+')', fontsize=20)\n",
    "plt.barh(range(len(Indices)), Importances[Indices], color='b', align='center')\n",
    "plt.yticks(range(len(Indices)), [Features[i] for i in Indices], fontsize=16)\n",
    "plt.xlabel('Relative_Importance_'+str(year)+' (Deep_Tree:'+str(depmax)+')', fontsize=16)\n",
    "plt.show()\n",
    "fig.savefig('Importances_'+str(year)+'.pdf', dpi=500)\n",
    "plt.close(fig)"
   ]
  },
  {
   "cell_type": "code",
   "execution_count": null,
   "id": "b2166c9f",
   "metadata": {},
   "outputs": [],
   "source": []
  }
 ],
 "metadata": {
  "kernelspec": {
   "display_name": "Python 3 (ipykernel)",
   "language": "python",
   "name": "python3"
  },
  "language_info": {
   "codemirror_mode": {
    "name": "ipython",
    "version": 3
   },
   "file_extension": ".py",
   "mimetype": "text/x-python",
   "name": "python",
   "nbconvert_exporter": "python",
   "pygments_lexer": "ipython3",
   "version": "3.8.10"
  }
 },
 "nbformat": 4,
 "nbformat_minor": 5
}
